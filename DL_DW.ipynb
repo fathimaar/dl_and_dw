{
  "nbformat": 4,
  "nbformat_minor": 0,
  "metadata": {
    "colab": {
      "provenance": [],
      "authorship_tag": "ABX9TyOrZijNh1biqqhK1eO+/BXT",
      "include_colab_link": true
    },
    "kernelspec": {
      "name": "python3",
      "display_name": "Python 3"
    },
    "language_info": {
      "name": "python"
    },
    "gpuClass": "standard"
  },
  "cells": [
    {
      "cell_type": "markdown",
      "metadata": {
        "id": "view-in-github",
        "colab_type": "text"
      },
      "source": [
        "<a href=\"https://colab.research.google.com/github/fathimaar/dl_and_dw/blob/main/DL_DW.ipynb\" target=\"_parent\"><img src=\"https://colab.research.google.com/assets/colab-badge.svg\" alt=\"Open In Colab\"/></a>"
      ]
    },
    {
      "cell_type": "code",
      "execution_count": null,
      "metadata": {
        "id": "z1cjMMIB1f5S",
        "colab": {
          "base_uri": "https://localhost:8080/"
        },
        "outputId": "9d465698-2cb8-4a55-c424-dc2fc0d2c7e7"
      },
      "outputs": [
        {
          "output_type": "stream",
          "name": "stdout",
          "text": [
            "Looking in indexes: https://pypi.org/simple, https://us-python.pkg.dev/colab-wheels/public/simple/\n",
            "Collecting wbdata\n",
            "  Downloading wbdata-0.3.0-py3-none-any.whl (14 kB)\n",
            "Requirement already satisfied: tabulate>=0.8.5 in /usr/local/lib/python3.8/dist-packages (from wbdata) (0.8.10)\n",
            "Requirement already satisfied: decorator>=4.0 in /usr/local/lib/python3.8/dist-packages (from wbdata) (4.4.2)\n",
            "Requirement already satisfied: requests>=2.0 in /usr/local/lib/python3.8/dist-packages (from wbdata) (2.23.0)\n",
            "Requirement already satisfied: appdirs<2.0,>=1.4 in /usr/local/lib/python3.8/dist-packages (from wbdata) (1.4.4)\n",
            "Requirement already satisfied: certifi>=2017.4.17 in /usr/local/lib/python3.8/dist-packages (from requests>=2.0->wbdata) (2022.12.7)\n",
            "Requirement already satisfied: chardet<4,>=3.0.2 in /usr/local/lib/python3.8/dist-packages (from requests>=2.0->wbdata) (3.0.4)\n",
            "Requirement already satisfied: idna<3,>=2.5 in /usr/local/lib/python3.8/dist-packages (from requests>=2.0->wbdata) (2.10)\n",
            "Requirement already satisfied: urllib3!=1.25.0,!=1.25.1,<1.26,>=1.21.1 in /usr/local/lib/python3.8/dist-packages (from requests>=2.0->wbdata) (1.24.3)\n",
            "Installing collected packages: wbdata\n",
            "Successfully installed wbdata-0.3.0\n"
          ]
        }
      ],
      "source": [
        "!pip install -U wbdata"
      ]
    },
    {
      "cell_type": "code",
      "source": [
        "import wbdata\n",
        "import datetime\n",
        "import pandas as pd\n",
        "import json"
      ],
      "metadata": {
        "id": "wfV_hgo_2Pkv"
      },
      "execution_count": null,
      "outputs": []
    },
    {
      "cell_type": "code",
      "source": [
        "# Get the list of sources of indicators for which data is needed\n",
        "wbdata.get_source()"
      ],
      "metadata": {
        "id": "mij6ZxoK2XXn"
      },
      "execution_count": null,
      "outputs": []
    },
    {
      "cell_type": "code",
      "source": [
        "# We need world development indicators which include most of the data we need such a population, income, etc.\n",
        "# These indicators can be obtained from source = 2 (World development indicators)\n",
        "wbdata.get_indicator(source = 2)"
      ],
      "metadata": {
        "id": "ZrBCf7bH2aiT"
      },
      "execution_count": null,
      "outputs": []
    },
    {
      "cell_type": "code",
      "source": [
        "# Begining with the total_population indicator given by the id \"SP.POP.TOTL\"\n",
        "# wbdata.get_data(\"SG.AG.*\")\n",
        "wbdata.search_indicators(\"pension\")"
      ],
      "metadata": {
        "id": "EEln29i_2qz5"
      },
      "execution_count": null,
      "outputs": []
    },
    {
      "cell_type": "code",
      "source": [
        "eur_list = ['RUS', 'DEU','GBR','FRA','ITA','ESP','UKR','POL','ROU','NLD','BEL','CZE','GRC','PRT','SWE','HUN','BLR','AUT','SRB','CHE','BGR','DNK','FIN','SVK','NOR','IRL','HRV','BIH','MDA','ALB','LTU','MKD','SVN','LVA','EST','MNE','LUX','MLT','ISL','AND','MCO','LIE','SMR']"
      ],
      "metadata": {
        "id": "4kpYSsx9P6Ze"
      },
      "execution_count": null,
      "outputs": []
    },
    {
      "cell_type": "markdown",
      "source": [
        "# Pension funds as percentage of GDP"
      ],
      "metadata": {
        "id": "x9o9eYJ2PXLG"
      }
    },
    {
      "cell_type": "code",
      "source": [
        "pension_by_gdp = {\"GFDD.DI.13\" : \"pension fund assets to GDP\"}\n",
        "df_pension_by_gdp = wbdata.get_dataframe(pension_by_gdp , country= eur_list, convert_date=True)\n",
        "df_pension_by_gdp.dropna(inplace = True)\n",
        "# df_pop_age.reset_index(level = 0, inplace = True)\n",
        "# df_pension_by_gdp['country_fact'] = pd.factorize(df_pension_by_gdp['country'])[0]\n",
        "df_pension_by_gdp"
      ],
      "metadata": {
        "id": "omGmqMTD4Vq4",
        "colab": {
          "base_uri": "https://localhost:8080/",
          "height": 656
        },
        "outputId": "00941639-ab9e-4c8f-fd4b-6085a6014954"
      },
      "execution_count": null,
      "outputs": [
        {
          "output_type": "execute_result",
          "data": {
            "text/plain": [
              "                    pension fund assets to GDP\n",
              "country date                                  \n",
              "Albania 2020-01-01                    0.223722\n",
              "        2019-01-01                    0.171663\n",
              "        2018-01-01                    0.139858\n",
              "        2017-01-01                    0.111756\n",
              "        2016-01-01                    0.090009\n",
              "...                                        ...\n",
              "Ukraine 2004-01-01                    0.015427\n",
              "        2003-01-01                    0.013976\n",
              "        2002-01-01                    0.009445\n",
              "        2001-01-01                    0.005267\n",
              "        2000-01-01                    0.003199\n",
              "\n",
              "[656 rows x 1 columns]"
            ],
            "text/html": [
              "\n",
              "  <div id=\"df-b9727728-a6da-4bd1-8cd9-6f6c9182ed90\">\n",
              "    <div class=\"colab-df-container\">\n",
              "      <div>\n",
              "<style scoped>\n",
              "    .dataframe tbody tr th:only-of-type {\n",
              "        vertical-align: middle;\n",
              "    }\n",
              "\n",
              "    .dataframe tbody tr th {\n",
              "        vertical-align: top;\n",
              "    }\n",
              "\n",
              "    .dataframe thead th {\n",
              "        text-align: right;\n",
              "    }\n",
              "</style>\n",
              "<table border=\"1\" class=\"dataframe\">\n",
              "  <thead>\n",
              "    <tr style=\"text-align: right;\">\n",
              "      <th></th>\n",
              "      <th></th>\n",
              "      <th>pension fund assets to GDP</th>\n",
              "    </tr>\n",
              "    <tr>\n",
              "      <th>country</th>\n",
              "      <th>date</th>\n",
              "      <th></th>\n",
              "    </tr>\n",
              "  </thead>\n",
              "  <tbody>\n",
              "    <tr>\n",
              "      <th rowspan=\"5\" valign=\"top\">Albania</th>\n",
              "      <th>2020-01-01</th>\n",
              "      <td>0.223722</td>\n",
              "    </tr>\n",
              "    <tr>\n",
              "      <th>2019-01-01</th>\n",
              "      <td>0.171663</td>\n",
              "    </tr>\n",
              "    <tr>\n",
              "      <th>2018-01-01</th>\n",
              "      <td>0.139858</td>\n",
              "    </tr>\n",
              "    <tr>\n",
              "      <th>2017-01-01</th>\n",
              "      <td>0.111756</td>\n",
              "    </tr>\n",
              "    <tr>\n",
              "      <th>2016-01-01</th>\n",
              "      <td>0.090009</td>\n",
              "    </tr>\n",
              "    <tr>\n",
              "      <th>...</th>\n",
              "      <th>...</th>\n",
              "      <td>...</td>\n",
              "    </tr>\n",
              "    <tr>\n",
              "      <th rowspan=\"5\" valign=\"top\">Ukraine</th>\n",
              "      <th>2004-01-01</th>\n",
              "      <td>0.015427</td>\n",
              "    </tr>\n",
              "    <tr>\n",
              "      <th>2003-01-01</th>\n",
              "      <td>0.013976</td>\n",
              "    </tr>\n",
              "    <tr>\n",
              "      <th>2002-01-01</th>\n",
              "      <td>0.009445</td>\n",
              "    </tr>\n",
              "    <tr>\n",
              "      <th>2001-01-01</th>\n",
              "      <td>0.005267</td>\n",
              "    </tr>\n",
              "    <tr>\n",
              "      <th>2000-01-01</th>\n",
              "      <td>0.003199</td>\n",
              "    </tr>\n",
              "  </tbody>\n",
              "</table>\n",
              "<p>656 rows × 1 columns</p>\n",
              "</div>\n",
              "      <button class=\"colab-df-convert\" onclick=\"convertToInteractive('df-b9727728-a6da-4bd1-8cd9-6f6c9182ed90')\"\n",
              "              title=\"Convert this dataframe to an interactive table.\"\n",
              "              style=\"display:none;\">\n",
              "        \n",
              "  <svg xmlns=\"http://www.w3.org/2000/svg\" height=\"24px\"viewBox=\"0 0 24 24\"\n",
              "       width=\"24px\">\n",
              "    <path d=\"M0 0h24v24H0V0z\" fill=\"none\"/>\n",
              "    <path d=\"M18.56 5.44l.94 2.06.94-2.06 2.06-.94-2.06-.94-.94-2.06-.94 2.06-2.06.94zm-11 1L8.5 8.5l.94-2.06 2.06-.94-2.06-.94L8.5 2.5l-.94 2.06-2.06.94zm10 10l.94 2.06.94-2.06 2.06-.94-2.06-.94-.94-2.06-.94 2.06-2.06.94z\"/><path d=\"M17.41 7.96l-1.37-1.37c-.4-.4-.92-.59-1.43-.59-.52 0-1.04.2-1.43.59L10.3 9.45l-7.72 7.72c-.78.78-.78 2.05 0 2.83L4 21.41c.39.39.9.59 1.41.59.51 0 1.02-.2 1.41-.59l7.78-7.78 2.81-2.81c.8-.78.8-2.07 0-2.86zM5.41 20L4 18.59l7.72-7.72 1.47 1.35L5.41 20z\"/>\n",
              "  </svg>\n",
              "      </button>\n",
              "      \n",
              "  <style>\n",
              "    .colab-df-container {\n",
              "      display:flex;\n",
              "      flex-wrap:wrap;\n",
              "      gap: 12px;\n",
              "    }\n",
              "\n",
              "    .colab-df-convert {\n",
              "      background-color: #E8F0FE;\n",
              "      border: none;\n",
              "      border-radius: 50%;\n",
              "      cursor: pointer;\n",
              "      display: none;\n",
              "      fill: #1967D2;\n",
              "      height: 32px;\n",
              "      padding: 0 0 0 0;\n",
              "      width: 32px;\n",
              "    }\n",
              "\n",
              "    .colab-df-convert:hover {\n",
              "      background-color: #E2EBFA;\n",
              "      box-shadow: 0px 1px 2px rgba(60, 64, 67, 0.3), 0px 1px 3px 1px rgba(60, 64, 67, 0.15);\n",
              "      fill: #174EA6;\n",
              "    }\n",
              "\n",
              "    [theme=dark] .colab-df-convert {\n",
              "      background-color: #3B4455;\n",
              "      fill: #D2E3FC;\n",
              "    }\n",
              "\n",
              "    [theme=dark] .colab-df-convert:hover {\n",
              "      background-color: #434B5C;\n",
              "      box-shadow: 0px 1px 3px 1px rgba(0, 0, 0, 0.15);\n",
              "      filter: drop-shadow(0px 1px 2px rgba(0, 0, 0, 0.3));\n",
              "      fill: #FFFFFF;\n",
              "    }\n",
              "  </style>\n",
              "\n",
              "      <script>\n",
              "        const buttonEl =\n",
              "          document.querySelector('#df-b9727728-a6da-4bd1-8cd9-6f6c9182ed90 button.colab-df-convert');\n",
              "        buttonEl.style.display =\n",
              "          google.colab.kernel.accessAllowed ? 'block' : 'none';\n",
              "\n",
              "        async function convertToInteractive(key) {\n",
              "          const element = document.querySelector('#df-b9727728-a6da-4bd1-8cd9-6f6c9182ed90');\n",
              "          const dataTable =\n",
              "            await google.colab.kernel.invokeFunction('convertToInteractive',\n",
              "                                                     [key], {});\n",
              "          if (!dataTable) return;\n",
              "\n",
              "          const docLinkHtml = 'Like what you see? Visit the ' +\n",
              "            '<a target=\"_blank\" href=https://colab.research.google.com/notebooks/data_table.ipynb>data table notebook</a>'\n",
              "            + ' to learn more about interactive tables.';\n",
              "          element.innerHTML = '';\n",
              "          dataTable['output_type'] = 'display_data';\n",
              "          await google.colab.output.renderOutput(dataTable, element);\n",
              "          const docLink = document.createElement('div');\n",
              "          docLink.innerHTML = docLinkHtml;\n",
              "          element.appendChild(docLink);\n",
              "        }\n",
              "      </script>\n",
              "    </div>\n",
              "  </div>\n",
              "  "
            ]
          },
          "metadata": {},
          "execution_count": 7
        }
      ]
    },
    {
      "cell_type": "code",
      "source": [
        "df_pension_by_gdp.reset_index(level = 0, inplace = True)\n",
        "df_pension_by_gdp['country_fact'] = pd.factorize(df_pension_by_gdp['country'])[0]\n",
        "df_pension_by_gdp[df_pension_by_gdp['pension fund assets to GDP']>100]"
      ],
      "metadata": {
        "id": "Fqau60Bt9Z4x"
      },
      "execution_count": null,
      "outputs": []
    },
    {
      "cell_type": "code",
      "source": [
        "df_pension_by_gdp.to_csv('pensiongdp.csv')"
      ],
      "metadata": {
        "id": "88YgOccx-xEU"
      },
      "execution_count": null,
      "outputs": []
    },
    {
      "cell_type": "markdown",
      "source": [
        "# Pension Adequacy"
      ],
      "metadata": {
        "id": "fVqfgRKX7iId"
      }
    },
    {
      "cell_type": "code",
      "source": [
        "adequacy = {\"per_si_cp.adq_pop_tot\":\"Adequacy of pension\"}\n",
        "df_adequacy = wbdata.get_dataframe(adequacy , country=eur_list, convert_date=True)\n",
        "df_adequacy.fillna(0,inplace = True)\n",
        "df_adequacy.reset_index(level = 0, inplace = True)\n",
        "df_adequacy['country_fact'] = pd.factorize(df_adequacy['country'])[0]\n",
        "df_adequacy.to_csv('adequacy.csv')"
      ],
      "metadata": {
        "id": "PzZdFfaU2vp2"
      },
      "execution_count": null,
      "outputs": []
    },
    {
      "cell_type": "code",
      "source": [
        "df_adequacy.reset_index(inplace = True)\n",
        "df_adequacy.to_csv('pension adequacy.csv')"
      ],
      "metadata": {
        "id": "owxFnkcY3i8j"
      },
      "execution_count": null,
      "outputs": []
    },
    {
      "cell_type": "code",
      "source": [
        "pension_by_gdp_pct = {\"GFDD.DI.13\": \"Pension fund assets to GDP in %\"}\n",
        "df_pension_by_gdp = wbdata.get_dataframe(pension_by_gdp_pct, country=\"all\", convert_date=True)"
      ],
      "metadata": {
        "id": "b4HYs8bDeejC"
      },
      "execution_count": null,
      "outputs": []
    },
    {
      "cell_type": "markdown",
      "source": [
        "# Demographics: Prime age, 65+, total popln., "
      ],
      "metadata": {
        "id": "nawX4rxCP1jh"
      }
    },
    {
      "cell_type": "code",
      "source": [
        "pop_15_64 = {\"SP.POP.1564.TO\" : \"Total population aged 15-64\"}\n",
        "df_pop_15_64 = wbdata.get_dataframe(pop_15_64, country = eur_list, convert_date=True)\n",
        "df_pop_15_64.dropna(inplace = True)\n",
        "df_pop_15_64.shape"
      ],
      "metadata": {
        "id": "EBpHOWYam3Vd",
        "colab": {
          "base_uri": "https://localhost:8080/"
        },
        "outputId": "70bda8f6-5132-4140-a9d4-f12eef050902"
      },
      "execution_count": null,
      "outputs": [
        {
          "output_type": "execute_result",
          "data": {
            "text/plain": [
              "(2418, 1)"
            ]
          },
          "metadata": {},
          "execution_count": 26
        }
      ]
    },
    {
      "cell_type": "code",
      "source": [
        "pop_over_65 = {\"SP.POP.65UP.TO\":\"Total population aged 65 and over\"}\n",
        "df_pop_over_65 = wbdata.get_dataframe(pop_over_65, country= eur_list, convert_date=True)\n",
        "df_pop_over_65.dropna(inplace = True)\n",
        "df_pop_over_65.shape"
      ],
      "metadata": {
        "id": "DoHkHMXtn3Hc",
        "colab": {
          "base_uri": "https://localhost:8080/"
        },
        "outputId": "696d2c90-d9a2-4d70-cf14-38b29454f706"
      },
      "execution_count": null,
      "outputs": [
        {
          "output_type": "execute_result",
          "data": {
            "text/plain": [
              "(2418, 1)"
            ]
          },
          "metadata": {},
          "execution_count": 25
        }
      ]
    },
    {
      "cell_type": "code",
      "source": [
        "df_pop_age = pd.merge(df_pop_15_64, df_pop_over_65, left_index=True, right_index=True)\n",
        "df_pop_age['dependency ratio']=df_pop_age['Total population aged 65 and over']/df_pop_age['Total population aged 15-64']\n",
        "df_pop_age.reset_index(inplace = True)\n",
        "df_pop_age['country_fact'] = pd.factorize(df_pop_age['country'])[0]\n",
        "df_pop_age"
      ],
      "metadata": {
        "id": "GQFFpIMkR9Dw"
      },
      "execution_count": null,
      "outputs": []
    },
    {
      "cell_type": "code",
      "source": [
        "df_pop_age.to_csv('dependency_rat.csv')"
      ],
      "metadata": {
        "id": "xxINNRDpkhBW"
      },
      "execution_count": null,
      "outputs": []
    }
  ]
}